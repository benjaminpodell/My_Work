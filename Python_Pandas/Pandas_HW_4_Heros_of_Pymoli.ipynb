{
 "cells": [
  {
   "cell_type": "code",
   "execution_count": null,
   "metadata": {},
   "outputs": [],
   "source": [
    "#Importing Dependencies \n",
    "import pandas as pd\n",
    "import numpy as np"
   ]
  },
  {
   "cell_type": "code",
   "execution_count": null,
   "metadata": {},
   "outputs": [],
   "source": [
    "#Creates file path to the game purchase data\n",
    "data_file = \"Resources/purchase_data.csv\""
   ]
  },
  {
   "cell_type": "code",
   "execution_count": null,
   "metadata": {},
   "outputs": [],
   "source": [
    "#Allows the csv to be read and displays the top portion of it\n",
    "game_data = pd.read_csv(data_file)\n",
    "game_data.tail()"
   ]
  },
  {
   "cell_type": "code",
   "execution_count": null,
   "metadata": {},
   "outputs": [],
   "source": [
    "#Takes the length of the SN column and gives the total valuse count for that specific column\n",
    "total_players = len(game_data[\"SN\"].value_counts())\n",
    "total_players\n",
    "#Creates a dataframe of the SN ids which gives a count of the total players then displays the result\n",
    "total_players_df = pd.DataFrame({\"Total Players\":[total_players]})\n",
    "total_players_df"
   ]
  },
  {
   "cell_type": "code",
   "execution_count": null,
   "metadata": {},
   "outputs": [],
   "source": [
    "#Variable that Stores the length of unique \"Item ID\" values\n",
    "unique_items = len(game_data[\"Item ID\"].unique())\n",
    "\n",
    "#Testing\n",
    "#unique_items_df = pd.DataFrame({\"Number of Unique Items\": [unique_items]})\n",
    "#unique_items_df\n",
    "\n",
    "#Variable  that stores the average prices column  \n",
    "mean_price = (game_data[\"Price\"].mean())\n",
    "#Testing\n",
    "#mean_price_df = pd.DataFrame({\"Average Price\":[mean_price]})\n",
    "#mean_price_df\n",
    "\n",
    "#Variable that stores the length of the purchase ID readily for use to display in dataframe towards total count of Purchase ID's\n",
    "purchase_num = len(game_data[\"Purchase ID\"])\n",
    "\n",
    "#testing\n",
    "#purchase_num\n",
    "\n",
    "#Variable that stores price values and calculates the total sum\n",
    "revenue_sum = (game_data[\"Price\"]).sum()\n",
    "#Testing\n",
    "#revenue_sum\n",
    "\n",
    "#Creates a data frame using above variables and names their respective headers\n",
    "purchasing_analysis_df = pd.DataFrame({\"Number of Unique Items\": [unique_items],\n",
    "                                      \"Average Price\": [mean_price],\n",
    "                                      \"Number of Purchases\": [purchase_num],\n",
    "                                      \"Total Revenue\": [revenue_sum]})\n",
    "\n",
    "#Changes the Format for \"Average Price\" and \"Total Revenue\" to Dollars using astype formatting \n",
    "purchasing_analysis_df[\"Average Price\"] = purchasing_analysis_df[\"Average Price\"].astype(float).map(\"${:,.2f}\".format)\n",
    "purchasing_analysis_df[\"Total Revenue\"] = purchasing_analysis_df[\"Total Revenue\"].astype(float).map(\"${:,.2f}\".format)\n",
    "\n",
    "#Displaying Dataframe\n",
    "purchasing_analysis_df"
   ]
  },
  {
   "cell_type": "code",
   "execution_count": null,
   "metadata": {},
   "outputs": [],
   "source": [
    "#Variable that groups data values by their respective gender type\n",
    "gender_info = game_data.groupby(\"Gender\")\n",
    "#After grouping by gender, this takes the count of males/females by using the \"SN column and extracts all the unique total values\"\n",
    "gender_count = gender_info.nunique()[\"SN\"]\n",
    "#Formula To Calculate the percent using previous created variable total players and new gender count variable\n",
    "gender_percent = gender_count / total_players * 100\n",
    "\n",
    "#Creates a dataframe that displays total gender count and percentages and gives them headers\n",
    "gender_df = pd.DataFrame({\"Percent of Players\": gender_percent,\"Total Count\": gender_count})\n",
    "#Removes the \"Gender\" display making viewability more simple\n",
    "#gender_df.index.name = None\n",
    "#sorts \"Total Count\" Values by returning largest values first and coverts Percentages to Percent\n",
    "gender_df.sort_values([\"Total Count\"], ascending = False).style.format({\"Percentage of Players\":\"{:.2f}\"})"
   ]
  },
  {
   "cell_type": "code",
   "execution_count": null,
   "metadata": {},
   "outputs": [],
   "source": [
    "#Variable that stores total count of Purchases by gender from Purchase ID\n",
    "gender_analysis_count = gender_info[\"Purchase ID\"].count()\n",
    "#Variable that stores average for gender prices column  \n",
    "gender_mean_purchase_price = gender_info[\"Price\"].mean()\n",
    "#Variable that stores total sum of prices\n",
    "gender_mean_purchase_sum = gender_info[\"Price\"].sum()\n",
    "#Variable that stores formula to calculate average purchase per individual by gender\n",
    "gender_purchase_per_person = gender_mean_purchase_sum / gender_count\n",
    "\n",
    "#Variable that creates a dataframe of all the above created variables and gives them their respective headers\n",
    "gender_df = pd.DataFrame({\"Purchase Count\": gender_analysis_count, \"Average Purchase Price\": gender_mean_purchase_price, \"Average Purchase Value\": gender_mean_purchase_sum, \"Average Purchase Total Per Person\": gender_purchase_per_person})\n",
    "#Adds the gender header disply \n",
    "gender_df.index.name = \"Gender\"\n",
    "#Formats the \"Average\" price, value, and per person amount to dollars \n",
    "gender_df.style.format({\"Average Purchase Value\":\"${:,.2f}\", \"Average Purchase Price\":\"${:,.2f}\", \"Average Purchase Total Per Person\":\"${:,.2f}\"})"
   ]
  },
  {
   "cell_type": "code",
   "execution_count": null,
   "metadata": {},
   "outputs": [],
   "source": [
    "#Creates a bin that stores floats that are as close as possible to respective category labels without surpassing them minus the last one (150)\n",
    "bin_for_age = [0, 9.99, 14.99, 19.99, 24.99, 29.99, 34.99, 39.99, 150] \n",
    "#Creates a bin that will display the age categorys\n",
    "bin_for_years = [\"<10\", \"10-14\", \"15-19\", \"20-24\", \"25-29\", \"30-34\", \"35-39\", \"40+\"]\n",
    "\n",
    "#Uses pd.cut to slice the csv's \"Age\" section to use in accordance with created bin_for_age along with labeling them created bin_for_years\n",
    "game_data[\"Age Group\"] = pd.cut(game_data[\"Age\"],bin_for_age, labels= bin_for_years)\n",
    "game_data\n",
    "\n",
    "#Groups csv's data by \"Age Group\"\n",
    "age_group = game_data.groupby(\"Age Group\")\n",
    "#Variable that stores the \"SN\" columns unique values from new group \"Age Group\"\n",
    "age_count = age_group[\"SN\"].nunique()\n",
    "#Variable that store the formula that holdes the age percent value \n",
    "age_percent = (age_count / total_players ) * 100\n",
    "\n",
    "#Creates a data frame that will display \"Percentage of Players\" and \"Total Count\"\n",
    "age_full_group = pd.DataFrame({\"Percentage of Players\": age_percent, \"Total Count\": age_count})\n",
    "#Removes the \"Age Group\" title display\n",
    "#age_full_group.index.name = None\n",
    "#Formats the \"Percentage of Players\" to percent\n",
    "age_full_group.style.format({\"Percentage of Players\":\"{:,.2f}\"})"
   ]
  },
  {
   "cell_type": "code",
   "execution_count": null,
   "metadata": {},
   "outputs": [],
   "source": [
    "#Variable that stores total count of \"Purchase ID\" of age_group dataframe\n",
    "age_purchase = age_group[\"Purchase ID\"].count()\n",
    "#Variable that stores average price of age_group dataframe\n",
    "age_mean_purchase_price = age_group[\"Price\"].mean()\n",
    "#Variable that stores average sum of \"Price\" column \n",
    "age_sum_value = age_group[\"Price\"].sum()\n",
    "#Variable that stores formula that calculates average purchase per person\n",
    "average_purchase_per_person = age_sum_value / age_count\n",
    "#Variable that creates a dataframe of all the above variables and gives them a header\n",
    "age_value_df = pd.DataFrame({\"Purchase Count\": age_purchase,\n",
    "                             \"Average Purchase Price\": age_mean_purchase_price,\n",
    "                             \"Total Purchase Value\": age_sum_value,\n",
    "                             \"Average Purchase Total Per Person\": average_purchase_per_person})\n",
    "#Removes the title display for age value\n",
    "age_value_df.index.name = None\n",
    "#Formats the count, price, value, and per person amount to dollars \n",
    "age_value_df.style.format({\"Average Purchase Price\":\"${:,.2f}\", \"Total Purchase Value\":\"${:,.2f}\", \"Average Purchase Total Per Person\":\"${:,.2f}\"})"
   ]
  },
  {
   "cell_type": "code",
   "execution_count": null,
   "metadata": {},
   "outputs": [],
   "source": [
    "#Creates a variable that groups the data by \"SN\" column\n",
    "big_spender = game_data.groupby(\"SN\")\n",
    "#Creates a variable that stores the count for purchase ID\n",
    "spender_purchase_count = big_spender[\"Purchase ID\"].count()\n",
    "#Creates a variable that stores the average for price\n",
    "spender_purchase_mean = big_spender[\"Price\"].mean()\n",
    "#Creates a variable that stores the total sum for price based on grouped SN data\n",
    "spender_purchase_sum = big_spender[\"Price\"].sum()\n",
    "\n",
    "#Variable that creates a dataframe of all the above variables and gives them a header\n",
    "spender_df = pd.DataFrame({\"Purchase Count\": spender_purchase_count, \"Average Purchase Price\": spender_purchase_mean, \"Total Purchase Value\":spender_purchase_sum})\n",
    "\n",
    "#Sorts \"Total Purchase Value\" Values by returning largest values first\n",
    "sort_spenders = spender_df.sort_values([\"Total Purchase Value\"], ascending=False).head()\n",
    "#Formats specific variables to dollar amount \n",
    "sort_spenders.style.format({\"Average Purchase Total\":\"${:,.2f}\", \"Average Purchase Price\":\"${:,.2f}\",  \"Total Purchase Value\":\"${:,.2f}\"})"
   ]
  },
  {
   "cell_type": "code",
   "execution_count": null,
   "metadata": {},
   "outputs": [],
   "source": [
    "#Variable that stores the datasets \"Item ID\", \"Item Name\", and \"Price\" columns\n",
    "pop_items = game_data[[\"Item ID\", \"Item Name\",\"Price\"]]\n",
    "#Variable that groups those previous columns by \"Item ID\" and \"Item Name\"\n",
    "pop_items_group = pop_items.groupby([\"Item ID\",\"Item Name\"])\n",
    "#Variable that stores the totat count of \"Price\"\n",
    "pop_purchase_count = pop_items_group[\"Price\"].count()\n",
    "#Variable that stores the total sum of the Price column\n",
    "pop_value_sum = (pop_items_group[\"Price\"].sum())\n",
    "#Variable that stores a formula that calculates the individual price per person of popular items\n",
    "pop_individual_price = pop_value_sum / pop_purchase_count\n",
    "\n",
    "#Variable that creates a dataframe of all the above variables and gives them a header\n",
    "pop_items_df = pd.DataFrame({\"Purchase Count\": pop_purchase_count,\"Item Price\": pop_individual_price,\"Total Purchase Value\":pop_value_sum})\n",
    "#Sorts \"Purchase Count\" Values by returning largest values first\n",
    "pop_items_df_sorted = pop_items_df.sort_values([\"Purchase Count\"], ascending=False).head()\n",
    "#Formats specific variables to dollar amount \n",
    "pop_items_df_sorted.style.format({\"Item Price\":\"${:,.2f}\", \"Total Purchase Value\":\"${:,.2f}\"})"
   ]
  },
  {
   "cell_type": "code",
   "execution_count": null,
   "metadata": {},
   "outputs": [],
   "source": [
    "#Sorts the previously created data frame called \"pop_items_df_sorted\" by returning largest values first\n",
    "most_profitable_items = pop_items_df.sort_values([\"Total Purchase Value\"], ascending=False).head()\n",
    "#Formats the sorted dataframe columns \"Item Price\" and \"Total Purchase Value\" to dollars\n",
    "most_profitable_items.style.format({\"Item Price\":\"${:,.2f}\", \"Total Purchase Value\":\"${:,.2f}\"})"
   ]
  },
  {
   "cell_type": "code",
   "execution_count": null,
   "metadata": {},
   "outputs": [],
   "source": []
  }
 ],
 "metadata": {
  "kernelspec": {
   "display_name": "Python [conda env:PythonData]",
   "language": "python",
   "name": "conda-env-PythonData-py"
  },
  "language_info": {
   "codemirror_mode": {
    "name": "ipython",
    "version": 3
   },
   "file_extension": ".py",
   "mimetype": "text/x-python",
   "name": "python",
   "nbconvert_exporter": "python",
   "pygments_lexer": "ipython3",
   "version": "3.6.8"
  }
 },
 "nbformat": 4,
 "nbformat_minor": 2
}
